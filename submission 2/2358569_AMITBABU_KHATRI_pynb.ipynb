{
  "nbformat": 4,
  "nbformat_minor": 0,
  "metadata": {
    "colab": {
      "provenance": []
    },
    "kernelspec": {
      "name": "python3",
      "display_name": "Python 3"
    },
    "language_info": {
      "name": "python"
    }
  },
  "cells": [
    {
      "cell_type": "code",
      "execution_count": null,
      "metadata": {
        "id": "iETyyZa2Mm6a"
      },
      "outputs": [],
      "source": [
        "#AMIT BABU KHATRI\n",
        "#2358569"
      ]
    },
    {
      "cell_type": "markdown",
      "source": [
        "Question No 1"
      ],
      "metadata": {
        "id": "O_QClwIDNBRo"
      }
    },
    {
      "cell_type": "code",
      "source": [
        "import numpy as np\n",
        "\n",
        "\n",
        "# Function to get a valid number input from user\n",
        "def get_valid_number_input(prompt): #defines a function called get_valid_number_input with parameter prompt\n",
        "    while True: #check the conditon\n",
        "        try:\n",
        "            value = float(input(prompt)) #convert the input string to a floating-point number\n",
        "            return value\n",
        "        except ValueError:\n",
        "            print(\"Invalid input. Please enter a valid number.\") #print if try condition doesnot valid and ask user to enter valid number.\n",
        "\n",
        "\n",
        "# Create empty 3x3 matrix A\n",
        "A = np.zeros((3, 3))\n",
        "\n",
        "# Populate matrix A with user input\n",
        "for i in range(3):\n",
        "    for j in range(3):\n",
        "      #generates a formatted string that serves as the prompt to be displayed to the user\n",
        "        A[i][j] = get_valid_number_input(f\"Enter value for A[{i}][{j}]: \")\n",
        "\n",
        "# Print matrix A\n",
        "print(\"Matrix A:\")\n",
        "print(A)\n",
        "\n",
        "# Calculate determinant of matrix A\n",
        "determinant = np.linalg.det(A) #np.linalg.det(A) computes the determinant of matrix A using the det function.\n",
        "print(\"Determinant of matrix A:\") #print determiant of matrix A\n",
        "print(determinant)\n",
        "\n",
        "# Check if matrix A is invertible\n",
        "if determinant == 0: #check if determinat is equal to zero or not\n",
        "    print(\"Matrix A is not invertible\")\n",
        "else:\n",
        "    # Calculate inverse of matrix A\n",
        "    inverse_A = np.linalg.inv(A) #np.linalg.inv(A) expression calculates the inverse of matrix A using the inv function.\n",
        "    print(\"Inverse of matrix A:\") #print inverse of matrix A.\n",
        "    print(inverse_A)\n",
        "\n",
        "# Calculate A*A and A*A*A\n",
        "A_square = np.dot(A, A) #np.dot(A, A) performs the matrix multiplication operation between matrix A and itself.\n",
        "A_cube = np.dot(A_square, A) #np.dot(A_square, A) performs the matrix multiplication operation between A_square and A.\n",
        "\n",
        "# Print A*A and A*A*A\n",
        "print(\"A*A:\")\n",
        "print(A_square)\n",
        "print(\"A*A*A:\")\n",
        "print(A_cube)\n",
        "\n",
        "# Count number of values in matrix A that are greater than or equal to 10\n",
        "count = np.count_nonzero(A >= 10)\n",
        "print(f\"Number of values in matrix A that are greater than or equal to 10: {count}\")\n"
      ],
      "metadata": {
        "colab": {
          "base_uri": "https://localhost:8080/",
          "height": 0
        },
        "id": "NPOq8mxoNPvI",
        "outputId": "3d3c9c00-779b-42a4-dfa9-5ab1ab278d14"
      },
      "execution_count": 3,
      "outputs": [
        {
          "output_type": "stream",
          "name": "stdout",
          "text": [
            "Enter value for A[0][0]: 3\n",
            "Enter value for A[0][1]: 4\n",
            "Enter value for A[0][2]: 2\n",
            "Enter value for A[1][0]: 1\n",
            "Enter value for A[1][1]: 3\n",
            "Enter value for A[1][2]: 7\n",
            "Enter value for A[2][0]: 9\n",
            "Enter value for A[2][1]: 11\n",
            "Enter value for A[2][2]: 4\n",
            "Matrix A:\n",
            "[[ 3.  4.  2.]\n",
            " [ 1.  3.  7.]\n",
            " [ 9. 11.  4.]]\n",
            "Determinant of matrix A:\n",
            "9.000000000000009\n",
            "Inverse of matrix A:\n",
            "[[-7.22222222  0.66666667  2.44444444]\n",
            " [ 6.55555556 -0.66666667 -2.11111111]\n",
            " [-1.77777778  0.33333333  0.55555556]]\n",
            "A*A:\n",
            "[[ 31.  46.  42.]\n",
            " [ 69.  90.  51.]\n",
            " [ 74. 113. 111.]]\n",
            "A*A*A:\n",
            "[[ 517.  724.  552.]\n",
            " [ 756. 1107.  972.]\n",
            " [1334. 1856. 1383.]]\n",
            "Number of values in matrix A that are greater than or equal to 10: 1\n"
          ]
        }
      ]
    },
    {
      "cell_type": "markdown",
      "source": [
        "Question No 2"
      ],
      "metadata": {
        "id": "_hNIfzFgN_n9"
      }
    },
    {
      "cell_type": "code",
      "source": [
        "#AMIT BABU KHATRI\n",
        "#2358569\n",
        "import numpy as np\n",
        "\n",
        "\n",
        "def get_trace(matrix): #defines a function called get_trace with parameter matrix.\n",
        "    # Convert the list of lists to a numpy array\n",
        "    mx = np.array(matrix)\n",
        "    # Get the trace (sum of diagonal elements)\n",
        "    trace = mx.trace()\n",
        "    return trace #return trace\n",
        "\n",
        "\n",
        "# Test the function with different sized matrices\n",
        "matrix_3x3 = [[9, 8, 7], [6, 5, 4], [3, 2, 1]]\n",
        "matrix_4x4 = [[1, 2, 3, 4], [5, 6, 7, 8], [9, 10, 11, 12], [13, 14, 15, 16]]\n",
        "matrix_6x6 = [[1, 2, 3, 4, 5, 6], [7, 8, 9, 10, 11, 12], [13, 14, 15, 16, 17, 18], [19, 20, 21, 22, 23, 24],\n",
        "              [25, 26, 27, 28, 29, 30], [31, 32, 33, 34, 35, 36]]\n",
        "\n",
        "#get_trace() function calculates the trace of the matrix (the sum of the elements on the main diagonal) and returns the result.\n",
        "trace_3x3 = get_trace(matrix_3x3) #calls the get_trace() function, passing matrix_3x3 as an argument.\n",
        "trace_4x4 = get_trace(matrix_4x4) #calls the get_trace() function, passing matrix_4x4 as an argument.\n",
        "trace_6x6 = get_trace(matrix_6x6) ##calls the get_trace() function, passing matrix_6x6 as an argument.\n",
        "\n",
        "#prints the value of the trace of a matrix\n",
        "print(f\"The trace of the 3x3 matrix is {trace_3x3}\")\n",
        "print(f\"The trace of the 4x4 matrix is {trace_4x4}\")\n",
        "print(f\"The trace of the 6x6 matrix is {trace_6x6}\")\n"
      ],
      "metadata": {
        "colab": {
          "base_uri": "https://localhost:8080/",
          "height": 0
        },
        "id": "WRXJ-qLVODC4",
        "outputId": "999d3a1d-0260-423d-de79-e212cee87b28"
      },
      "execution_count": 4,
      "outputs": [
        {
          "output_type": "stream",
          "name": "stdout",
          "text": [
            "The trace of the 3x3 matrix is 15\n",
            "The trace of the 4x4 matrix is 34\n",
            "The trace of the 6x6 matrix is 111\n"
          ]
        }
      ]
    },
    {
      "cell_type": "markdown",
      "source": [
        "Question No 3"
      ],
      "metadata": {
        "id": "C2NBSudOOZjb"
      }
    },
    {
      "cell_type": "code",
      "source": [
        "#AMIT BABU KHATRI\n",
        "#2358569\n",
        "#defines a function named a that takes two required parameters m and n, and an optional parameter count with a default value of 0.\n",
        "def a(m, n, count=0):\n",
        "    count += 1 # increments the count variable by 1.\n",
        "    if m == 0: #checks if m is equal to 0\n",
        "\n",
        "    # If true, it returns a tuple (n + 1, count). This represents the base case of the Ackermann function.\n",
        "        return n + 1, count\n",
        "\n",
        "    elif m > 0 and n == 0:# checks if both m and n are greater than 0.\n",
        "        return a(m - 1, 1, count + 1) #call is with arguments (m, n - 1, count + 1), and the result is stored in the variables res and count\n",
        "    elif m > 0 and n > 0:\n",
        "        res, count = a(m, n - 1, count + 1)\n",
        "        return a(m - 1, res, count + 1)\n",
        "\n",
        "\n",
        "first = int(input('Enter first value for ackermann function: ')) #prompt the user to input  integer values for first value\n",
        "second = int(input('Enter second value for ackermann function: ')) # prompt the user to input  integer for second value\n",
        "result, num_calls = a(first, second) #calls the function a with the provided input values and assigns the returned values to result and num_calls.\n",
        "\n",
        "#print the result of the Ackermann function (result) and the number of recursive calls made (num_calls).\n",
        "print(\"Result:\", result)\n",
        "print(\"Number of recursive calls:\", num_calls)\n"
      ],
      "metadata": {
        "colab": {
          "base_uri": "https://localhost:8080/",
          "height": 0
        },
        "id": "GPvPLzhKOeIh",
        "outputId": "394f7574-bee4-43a4-a71b-2331e49ef75d"
      },
      "execution_count": 9,
      "outputs": [
        {
          "output_type": "stream",
          "name": "stdout",
          "text": [
            "Enter first value for ackermann function: 3\n",
            "Enter second value for ackermann function: 4\n",
            "Result: 125\n",
            "Number of recursive calls: 20613\n"
          ]
        }
      ]
    }
  ]
}