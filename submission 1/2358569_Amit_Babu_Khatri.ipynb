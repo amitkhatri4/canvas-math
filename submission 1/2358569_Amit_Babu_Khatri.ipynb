{
  "cells": [
    {
      "cell_type": "markdown",
      "metadata": {
        "id": "KnHQSHQkq9-p"
      },
      "source": [
        "Question No-1"
      ]
    },
    {
      "cell_type": "code",
      "execution_count": null,
      "metadata": {
        "colab": {
          "base_uri": "https://localhost:8080/"
        },
        "id": "cHGNgsbhpFHQ",
        "outputId": "f3d089bd-e6d0-456d-d6b5-a88bb4457c73"
      },
      "outputs": [
        {
          "name": "stdout",
          "output_type": "stream",
          "text": [
            "Enter your gender (M/F): M\n",
            "Enter your weight in kg: 88\n",
            "Enter your height in cm: 179\n",
            "Enter your age in years: 23\n",
            "Exercise Categories:\n",
            "0: Little to no exercise\n",
            "1: Light exercise (1–3 days per week)\n",
            "2: Moderate exercise (3–5 days per week)\n",
            "3: Heavy exercise (6–7 days per week)\n",
            "4: Very heavy exercise (twice per day, extra heavy workouts)\n",
            "Enter your exercise category code (0-4): 1\n",
            "Your BMR is: 1995.748\n",
            "Your recommended daily kilocalorie intake is: 2744.1535\n"
          ]
        }
      ],
      "source": [
        "#Amit Babu Khatri(2358569)\n",
        "# define the revised Harris-Benedict formula for calculating BMR\n",
        "def calculate_bmr(gender, weight, height, age): #The function calculate_bmr takes four arguments: gender, weight, height, and age. It is used to calculate the Basal Metabolic Rate (BMR) based on these inputs.\n",
        "    if gender == \"M\": #for male\n",
        "        bmr = 88.362 + (13.397 * weight) + (4.799 * height) - (5.677 * age)\n",
        "    elif gender == \"F\": #for female\n",
        "        bmr = 447.593 + (9.247 * weight) + (3.098 * height) - (4.330 * age)\n",
        "    return bmr\n",
        "\n",
        "# prompt the user for their details\n",
        "gender = input(\"Enter your gender (M/F): \") #prompt user to enter gender\n",
        "weight = float(input(\"Enter your weight in kg: \")) #prompt user to enter weight\n",
        "height = float(input(\"Enter your height in cm: \")) #prompt user to enter height\n",
        "age = int(input(\"Enter your age in years: \")) #prompt user to enter age\n",
        "\n",
        "# prompt the user for their level of exercise\n",
        "print(\"Exercise Categories:\")\n",
        "print(\"0: Little to no exercise\")\n",
        "print(\"1: Light exercise (1–3 days per week)\")\n",
        "print(\"2: Moderate exercise (3–5 days per week)\")\n",
        "print(\"3: Heavy exercise (6–7 days per week)\")\n",
        "print(\"4: Very heavy exercise (twice per day, extra heavy workouts)\")\n",
        "exercise_category = int(input(\"Enter your exercise category code (0-4): \"))\n",
        "\n",
        "# calculate the BMR and recommended daily kilocalorie intake based on the user's details and exercise category\n",
        "bmr = calculate_bmr(gender, weight, height, age)\n",
        "if exercise_category == 0:\n",
        "    daily_intake = bmr * 1.2\n",
        "elif exercise_category == 1:\n",
        "    daily_intake = bmr * 1.375\n",
        "elif exercise_category == 2:\n",
        "    daily_intake = bmr * 1.55\n",
        "elif exercise_category == 3:\n",
        "    daily_intake = bmr * 1.725\n",
        "elif exercise_category == 4:\n",
        "    daily_intake = bmr * 1.9\n",
        "\n",
        "# display the results to the user\n",
        "print(\"Your BMR is:\", bmr)\n",
        "print(\"Your recommended daily kilocalorie intake is:\", daily_intake)"
      ]
    },
    {
      "cell_type": "markdown",
      "metadata": {
        "id": "CE4DSe7RrGcs"
      },
      "source": [
        "Question No-2"
      ]
    },
    {
      "cell_type": "code",
      "execution_count": null,
      "metadata": {
        "colab": {
          "base_uri": "https://localhost:8080/"
        },
        "id": "CSyGcTM0rJtZ",
        "outputId": "97ffaba5-8ac0-43cf-9a67-d137116f27cf"
      },
      "outputs": [
        {
          "name": "stdout",
          "output_type": "stream",
          "text": [
            "Enter the first low number: 2\n",
            "Enter the second high number: 69\n",
            "The answer is: 2414\n"
          ]
        }
      ],
      "source": [
        "#Amit Babu Khatri(2358569)\n",
        "#Define a recursive function to calculate the sum of a range of numbers\n",
        "def calculate_sum(low, high): # function calculate_sum takes two arguments, low and high, representing the lower and upper bounds of a range of numbers\n",
        "    if low > high:#if the low number is greater than the high number, return 0\n",
        "        return 0\n",
        "    else:#add the current low number to the sum of the rest of the range\n",
        "        return low + calculate_sum(low + 1, high) #add the current low number to the sum of the rest of the range\n",
        "\n",
        "#Get user input for the low and high numbers\n",
        "try:\n",
        "    low = int(input(\"Enter the first low number: \")) #prompt the user to enter low number\n",
        "    high = int(input(\"Enter the second high number: \")) #prompt the user to enter high number\n",
        "except ValueError:\n",
        "    print(\"Invalid input, please enter integers.\") #print invalid reslut if user doesnot enter the interger number\n",
        "\n",
        "#Check if the input is valid (low should not be greater than high)\n",
        "else:\n",
        "    if low > high:\n",
        "        print(\"Invalid input, low number should not be greater than high number.\") #print if low number is greater than high number\n",
        "    else:\n",
        "        the_sum = calculate_sum(low, high) #calculate the sum\n",
        "        print(\"The answer is:\", the_sum) #print the sum"
      ]
    },
    {
      "cell_type": "markdown",
      "metadata": {
        "id": "aeV4orL_sL6J"
      },
      "source": [
        "Question No-3"
      ]
    },
    {
      "cell_type": "code",
      "execution_count": null,
      "metadata": {
        "colab": {
          "base_uri": "https://localhost:8080/",
          "height": 472
        },
        "id": "ag1FKOzssQOt",
        "outputId": "d2629b5e-3722-4e4a-8c1d-0c2cc4333f5b"
      },
      "outputs": [
        {
          "data": {
            "image/png": "[encoded data removed]",
            "text/plain": [
              "<Figure size 640x480 with 1 Axes>"
            ]
          },
          "metadata": {},
          "output_type": "display_data"
        }
      ],
      "source": [
        "#Amit Babu Khatri(2358569)\n",
        "import matplotlib.pyplot as plt #imports the matplotlib.pyplot library as plt\n",
        "import numpy as np #numpy library as np\n",
        "\n",
        "def function1(x):\n",
        "    return 3 * x ** 2 #for function 1\n",
        "\n",
        "def function2(x):\n",
        "    return 4 * x - 3 #for function2\n",
        "\n",
        "# Generate x values between -5 and 15\n",
        "x = np.linspace(-5, 15, 100)\n",
        "\n",
        "# Calculate y values for both functions\n",
        "y1 = function1(x)\n",
        "y2 = function2(x)\n",
        "\n",
        "# Plot the functions\n",
        "plt.plot(x, y1, 'o', label='y = 3x^2')\n",
        "plt.plot(x, y2, 'o', label='y = 4x - 3')\n",
        "\n",
        "# Set the title and axes labels\n",
        "plt.title('Graph of y = f(x)')\n",
        "plt.xlabel('x')\n",
        "plt.ylabel('y')\n",
        "\n",
        "# Enable the grid\n",
        "plt.grid(True)\n",
        "\n",
        "# Show the legend\n",
        "plt.legend()\n",
        "\n",
        "# Show the plot\n",
        "plt.show()\n"
      ]
    }
  ],
  "metadata": {
    "colab": {
      "provenance": []
    },
    "kernelspec": {
      "display_name": "Python 3",
      "name": "python3"
    },
    "language_info": {
      "name": "python"
    }
  },
  "nbformat": 4,
  "nbformat_minor": 0
}
